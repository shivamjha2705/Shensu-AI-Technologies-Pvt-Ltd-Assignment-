{
 "cells": [
  {
   "cell_type": "markdown",
   "id": "643be4c5",
   "metadata": {},
   "source": [
    "# Assignment 2 :\n",
    "\n",
    "Gowtham is an algo trader who wants to perform some stock market analysis on ICICI bank. He wants\n",
    "to store the real-time stock market data of ICICI bank for this week in his database. For each day, he\n",
    "wants to store the data from 11.00 AM to 2.00 PM. However, he cannot afford to pay for a real-time\n",
    "API, so he decides to use the Python Yahoo Finance library which provides real-time data around a 15-\n",
    "minutes delay.\n",
    "\n",
    "__Write a Python program that will store 15-minute candle data of ICICI bank for every 15 minutes from\n",
    "11.15 AM to 2.15 PM daily for a week. The program should use the Yahoo Finance library to retrieve\n",
    "the real-time data and store it in the database. Due to the 15-minute delay in the Yahoo Finance library,\n",
    "the program should start logging at 11.15 AM to capture data for the 11.00 AM time interval.__\n",
    "\n",
    "__Note:__\n",
    "    \n",
    "You should use MongoDB as a database and python APS Scheduler library for this task. The ticker for\n",
    "ICICI bank is \"ICICIBANK.NS\" and you can obtain stock information from Yahoo Finance using the\n",
    "yfinance library"
   ]
  },
  {
   "cell_type": "markdown",
   "id": "e7f79911",
   "metadata": {},
   "source": [
    "# Install Relevant Libraries:\n",
    "\n",
    "__pip install yfinance__\n",
    "\n",
    "__pip install apscheduler__\n",
    "\n",
    "__pip install pymongo__\n"
   ]
  },
  {
   "cell_type": "code",
   "execution_count": null,
   "id": "0ab1fad3",
   "metadata": {},
   "outputs": [],
   "source": [
    "# importing relevent libraries\n",
    "import yfinance as yf\n",
    "from apscheduler.schedulers.blocking import BlockingScheduler\n",
    "from pymongo import MongoClient\n",
    "from datetime import datetime"
   ]
  },
  {
   "cell_type": "code",
   "execution_count": null,
   "id": "e29573a3",
   "metadata": {},
   "outputs": [],
   "source": [
    "# Function to fetch and store ICICI Bank's real-time data\n",
    "def fetchStoreData():\n",
    "    \n",
    "    # current timestamp\n",
    "    current_time = datetime.now().strftime(\"%Y-%m-%d %H:%M:%S\")\n",
    "    \n",
    "    # Fetching real-time data with a 15-minute delay using yfinance library\n",
    "    icici_data = yf.Ticker(\"ICICIBANK.NS\").history(period='1d', interval='15m')\n",
    "    \n",
    "    # Establish connection to MongoDB server\n",
    "    client = MongoClient('mongodb://localhost:27017/') \n",
    "    \n",
    "    # Accessing / creating a database named 'stock_data'\n",
    "    db = client['stock_data'] \n",
    "    \n",
    "    # Accessing / creating a collection named 'icici_bank'\n",
    "    collection = db['icici_bank']  \n",
    "    \n",
    "    # Store the fetched data in MongoDB with the timestamp\n",
    "    data_dictionary = icici_data.to_dict(orient='records') \n",
    "    \n",
    "    for record in data_dictionary:\n",
    "        \n",
    "        # Adding current timestamp to each record\n",
    "        record['timestamp'] = current_time \n",
    "        collection.insert_one(record)  \n",
    "    \n",
    "    print(f\"Data stored in MongoDB at {current_time}\")"
   ]
  },
  {
   "cell_type": "code",
   "execution_count": null,
   "id": "7c330d37",
   "metadata": {},
   "outputs": [],
   "source": [
    "# Create a scheduler\n",
    "scheduler = BlockingScheduler()"
   ]
  },
  {
   "cell_type": "code",
   "execution_count": null,
   "id": "7e7186fb",
   "metadata": {},
   "outputs": [],
   "source": [
    "# Schedule the job to run every 15 minutes from 11:15 AM to 2:15 PM\n",
    "scheduler.add_job(fetchStoreData, 'interval', minutes=15, start_date='2023-10-23 11:15:00', end_date='2023-10-23 14:15:00')"
   ]
  },
  {
   "cell_type": "code",
   "execution_count": null,
   "id": "7bd15d1e",
   "metadata": {},
   "outputs": [],
   "source": [
    "# Start the scheduler\n",
    "scheduler.start()"
   ]
  },
  {
   "cell_type": "code",
   "execution_count": null,
   "id": "5cc86ab8",
   "metadata": {},
   "outputs": [],
   "source": []
  }
 ],
 "metadata": {
  "kernelspec": {
   "display_name": "Python 3 (ipykernel)",
   "language": "python",
   "name": "python3"
  },
  "language_info": {
   "codemirror_mode": {
    "name": "ipython",
    "version": 3
   },
   "file_extension": ".py",
   "mimetype": "text/x-python",
   "name": "python",
   "nbconvert_exporter": "python",
   "pygments_lexer": "ipython3",
   "version": "3.9.13"
  }
 },
 "nbformat": 4,
 "nbformat_minor": 5
}
