{
 "cells": [
  {
   "cell_type": "markdown",
   "id": "519a2d71",
   "metadata": {},
   "source": [
    "# Assignment 1 :\n",
    "\n",
    "__We are working as a quant researcher in the Stock Market, based on a certain strategy we have\n",
    "received following trades in historical data(Tradelog on the historical data is attached in the csv\n",
    "format) and we have to calculate the following parameters using Python to identify whether to\n",
    "execute the strategy or not.__\n",
    "\n",
    "\n",
    "__Note:__  For the parameters calculation consider the initial portfolio value of Rs 6500 and the\n",
    "risk-free interest rate of 5%.\n",
    "\n",
    "\n",
    "__Parameters required__\n",
    "\n",
    "\n",
    "1. Total Trades\n",
    "2. Profitable Trades\n",
    "3. Loss-Making Trades\n",
    "4. Win rate: Win Rate is the ratio of profitable trades to all trades\n",
    "5. Average Profit per trade\n",
    "6. Average Loss per trade\n",
    "7. Risk Reward ratio: Risk Reward Ratio is the ratio of average profit to average loss.\n",
    "8. Expectancy : (Win Rate x Average Profit) - (Loss Rate x Average Loss), where Loss\n",
    "Rate = 1 - (Win Rate)\n",
    "9. Average ROR per trade: The ratio is the average return earned in excess of the risk-free\n",
    "rate per unit of volatility or total risk. Volatility is a measure of the price fluctuations of an\n",
    "asset or portfolio.\n",
    "10. Sharpe Ratio:\n",
    "Sharpe Ratio = (Rate of Return - Risk-Free Rate) / (Standard deviation of the asset or\n",
    "portfolio)\n",
    "11. Max Drawdown: A maximum drawdown is the maximum observed loss from the peak of\n",
    "the portfolio in the given duration.\n",
    "12. Max Drawdown Percentage\n",
    "13. CAGR\n",
    "The CAGR formula is equal to (Ending Value/Beginning Value) ^ (1/No. of Periods) – 1.\n",
    "14. Calmar Ratio: Measures the performance of a strategy or fund, compared to its risk\n"
   ]
  },
  {
   "cell_type": "code",
   "execution_count": 2,
   "id": "b753b1fa",
   "metadata": {},
   "outputs": [],
   "source": [
    "import pandas as pd\n",
    "import numpy as np"
   ]
  },
  {
   "cell_type": "code",
   "execution_count": 3,
   "id": "98c18555",
   "metadata": {},
   "outputs": [
    {
     "data": {
      "text/html": [
       "<div>\n",
       "<style scoped>\n",
       "    .dataframe tbody tr th:only-of-type {\n",
       "        vertical-align: middle;\n",
       "    }\n",
       "\n",
       "    .dataframe tbody tr th {\n",
       "        vertical-align: top;\n",
       "    }\n",
       "\n",
       "    .dataframe thead th {\n",
       "        text-align: right;\n",
       "    }\n",
       "</style>\n",
       "<table border=\"1\" class=\"dataframe\">\n",
       "  <thead>\n",
       "    <tr style=\"text-align: right;\">\n",
       "      <th></th>\n",
       "      <th>Unnamed: 0</th>\n",
       "      <th>Ticker</th>\n",
       "      <th>Entry Time</th>\n",
       "      <th>Entry Price</th>\n",
       "      <th>Exit Time</th>\n",
       "      <th>Exit Price</th>\n",
       "    </tr>\n",
       "  </thead>\n",
       "  <tbody>\n",
       "    <tr>\n",
       "      <th>0</th>\n",
       "      <td>1</td>\n",
       "      <td>BANKNIFTY09JUL2022800PE</td>\n",
       "      <td>08-07-2020 09:29</td>\n",
       "      <td>163.50</td>\n",
       "      <td>08-07-2020 13:15</td>\n",
       "      <td>301.00</td>\n",
       "    </tr>\n",
       "    <tr>\n",
       "      <th>1</th>\n",
       "      <td>2</td>\n",
       "      <td>BANKNIFTY09JUL2022700CE</td>\n",
       "      <td>09-07-2020 09:29</td>\n",
       "      <td>162.50</td>\n",
       "      <td>09-07-2020 10:34</td>\n",
       "      <td>166.75</td>\n",
       "    </tr>\n",
       "    <tr>\n",
       "      <th>2</th>\n",
       "      <td>3</td>\n",
       "      <td>BANKNIFTY09JUL2022700PE</td>\n",
       "      <td>09-07-2020 09:29</td>\n",
       "      <td>110.55</td>\n",
       "      <td>09-07-2020 10:34</td>\n",
       "      <td>147.00</td>\n",
       "    </tr>\n",
       "    <tr>\n",
       "      <th>3</th>\n",
       "      <td>4</td>\n",
       "      <td>BANKNIFTY16JUL2022700CE</td>\n",
       "      <td>10-07-2020 09:29</td>\n",
       "      <td>295.10</td>\n",
       "      <td>10-07-2020 15:24</td>\n",
       "      <td>437.55</td>\n",
       "    </tr>\n",
       "    <tr>\n",
       "      <th>4</th>\n",
       "      <td>5</td>\n",
       "      <td>BANKNIFTY16JUL2022700PE</td>\n",
       "      <td>10-07-2020 09:29</td>\n",
       "      <td>555.20</td>\n",
       "      <td>10-07-2020 15:24</td>\n",
       "      <td>403.15</td>\n",
       "    </tr>\n",
       "    <tr>\n",
       "      <th>...</th>\n",
       "      <td>...</td>\n",
       "      <td>...</td>\n",
       "      <td>...</td>\n",
       "      <td>...</td>\n",
       "      <td>...</td>\n",
       "      <td>...</td>\n",
       "    </tr>\n",
       "    <tr>\n",
       "      <th>244</th>\n",
       "      <td>245</td>\n",
       "      <td>BANKNIFTY31DEC2031300PE</td>\n",
       "      <td>29-12-2020 09:29</td>\n",
       "      <td>216.65</td>\n",
       "      <td>29-12-2020 13:10</td>\n",
       "      <td>274.60</td>\n",
       "    </tr>\n",
       "    <tr>\n",
       "      <th>245</th>\n",
       "      <td>246</td>\n",
       "      <td>BANKNIFTY31DEC2031200CE</td>\n",
       "      <td>30-12-2020 09:29</td>\n",
       "      <td>248.25</td>\n",
       "      <td>30-12-2020 10:24</td>\n",
       "      <td>283.90</td>\n",
       "    </tr>\n",
       "    <tr>\n",
       "      <th>246</th>\n",
       "      <td>247</td>\n",
       "      <td>BANKNIFTY31DEC2031200PE</td>\n",
       "      <td>30-12-2020 09:29</td>\n",
       "      <td>221.70</td>\n",
       "      <td>30-12-2020 10:24</td>\n",
       "      <td>240.10</td>\n",
       "    </tr>\n",
       "    <tr>\n",
       "      <th>247</th>\n",
       "      <td>248</td>\n",
       "      <td>BANKNIFTY31DEC2031300CE</td>\n",
       "      <td>31-12-2020 09:29</td>\n",
       "      <td>161.80</td>\n",
       "      <td>31-12-2020 10:37</td>\n",
       "      <td>173.85</td>\n",
       "    </tr>\n",
       "    <tr>\n",
       "      <th>248</th>\n",
       "      <td>249</td>\n",
       "      <td>BANKNIFTY31DEC2031300PE</td>\n",
       "      <td>31-12-2020 09:29</td>\n",
       "      <td>105.05</td>\n",
       "      <td>31-12-2020 10:37</td>\n",
       "      <td>124.00</td>\n",
       "    </tr>\n",
       "  </tbody>\n",
       "</table>\n",
       "<p>249 rows × 6 columns</p>\n",
       "</div>"
      ],
      "text/plain": [
       "     Unnamed: 0                   Ticker        Entry Time  Entry Price  \\\n",
       "0             1  BANKNIFTY09JUL2022800PE  08-07-2020 09:29       163.50   \n",
       "1             2  BANKNIFTY09JUL2022700CE  09-07-2020 09:29       162.50   \n",
       "2             3  BANKNIFTY09JUL2022700PE  09-07-2020 09:29       110.55   \n",
       "3             4  BANKNIFTY16JUL2022700CE  10-07-2020 09:29       295.10   \n",
       "4             5  BANKNIFTY16JUL2022700PE  10-07-2020 09:29       555.20   \n",
       "..          ...                      ...               ...          ...   \n",
       "244         245  BANKNIFTY31DEC2031300PE  29-12-2020 09:29       216.65   \n",
       "245         246  BANKNIFTY31DEC2031200CE  30-12-2020 09:29       248.25   \n",
       "246         247  BANKNIFTY31DEC2031200PE  30-12-2020 09:29       221.70   \n",
       "247         248  BANKNIFTY31DEC2031300CE  31-12-2020 09:29       161.80   \n",
       "248         249  BANKNIFTY31DEC2031300PE  31-12-2020 09:29       105.05   \n",
       "\n",
       "            Exit Time  Exit Price  \n",
       "0    08-07-2020 13:15      301.00  \n",
       "1    09-07-2020 10:34      166.75  \n",
       "2    09-07-2020 10:34      147.00  \n",
       "3    10-07-2020 15:24      437.55  \n",
       "4    10-07-2020 15:24      403.15  \n",
       "..                ...         ...  \n",
       "244  29-12-2020 13:10      274.60  \n",
       "245  30-12-2020 10:24      283.90  \n",
       "246  30-12-2020 10:24      240.10  \n",
       "247  31-12-2020 10:37      173.85  \n",
       "248  31-12-2020 10:37      124.00  \n",
       "\n",
       "[249 rows x 6 columns]"
      ]
     },
     "execution_count": 3,
     "metadata": {},
     "output_type": "execute_result"
    }
   ],
   "source": [
    "df  = pd.read_csv('tradelog.csv')\n",
    "df"
   ]
  },
  {
   "cell_type": "markdown",
   "id": "0f535966",
   "metadata": {},
   "source": [
    "__Data Cleaning__"
   ]
  },
  {
   "cell_type": "code",
   "execution_count": 4,
   "id": "fc5d1d1d",
   "metadata": {},
   "outputs": [
    {
     "data": {
      "text/plain": [
       "Unnamed: 0     0\n",
       "Ticker         0\n",
       "Entry Time     0\n",
       "Entry Price    0\n",
       "Exit Time      0\n",
       "Exit Price     0\n",
       "dtype: int64"
      ]
     },
     "execution_count": 4,
     "metadata": {},
     "output_type": "execute_result"
    }
   ],
   "source": [
    "# Checking for null values\n",
    "df.isnull().sum()"
   ]
  },
  {
   "cell_type": "code",
   "execution_count": 5,
   "id": "eede2a8e",
   "metadata": {},
   "outputs": [
    {
     "data": {
      "text/plain": [
       "0"
      ]
     },
     "execution_count": 5,
     "metadata": {},
     "output_type": "execute_result"
    }
   ],
   "source": [
    "# Checking for duplicate rows\n",
    "df.duplicated().sum()"
   ]
  },
  {
   "cell_type": "markdown",
   "id": "822b1360",
   "metadata": {},
   "source": [
    "__Data Preparation:__"
   ]
  },
  {
   "cell_type": "code",
   "execution_count": 6,
   "id": "3ac3334e",
   "metadata": {},
   "outputs": [],
   "source": [
    "# Initial portfolio value and risk-free interest rate\n",
    "initial_portfolio_value = 6500\n",
    "risk_free_rate = 0.05"
   ]
  },
  {
   "cell_type": "code",
   "execution_count": 7,
   "id": "8a92fd19",
   "metadata": {},
   "outputs": [
    {
     "data": {
      "text/html": [
       "<div>\n",
       "<style scoped>\n",
       "    .dataframe tbody tr th:only-of-type {\n",
       "        vertical-align: middle;\n",
       "    }\n",
       "\n",
       "    .dataframe tbody tr th {\n",
       "        vertical-align: top;\n",
       "    }\n",
       "\n",
       "    .dataframe thead th {\n",
       "        text-align: right;\n",
       "    }\n",
       "</style>\n",
       "<table border=\"1\" class=\"dataframe\">\n",
       "  <thead>\n",
       "    <tr style=\"text-align: right;\">\n",
       "      <th></th>\n",
       "      <th>Unnamed: 0</th>\n",
       "      <th>Ticker</th>\n",
       "      <th>Entry Time</th>\n",
       "      <th>Entry Price</th>\n",
       "      <th>Exit Time</th>\n",
       "      <th>Exit Price</th>\n",
       "      <th>Profit/Loss</th>\n",
       "    </tr>\n",
       "  </thead>\n",
       "  <tbody>\n",
       "    <tr>\n",
       "      <th>0</th>\n",
       "      <td>1</td>\n",
       "      <td>BANKNIFTY09JUL2022800PE</td>\n",
       "      <td>08-07-2020 09:29</td>\n",
       "      <td>163.50</td>\n",
       "      <td>08-07-2020 13:15</td>\n",
       "      <td>301.00</td>\n",
       "      <td>13750.0</td>\n",
       "    </tr>\n",
       "    <tr>\n",
       "      <th>1</th>\n",
       "      <td>2</td>\n",
       "      <td>BANKNIFTY09JUL2022700CE</td>\n",
       "      <td>09-07-2020 09:29</td>\n",
       "      <td>162.50</td>\n",
       "      <td>09-07-2020 10:34</td>\n",
       "      <td>166.75</td>\n",
       "      <td>425.0</td>\n",
       "    </tr>\n",
       "    <tr>\n",
       "      <th>2</th>\n",
       "      <td>3</td>\n",
       "      <td>BANKNIFTY09JUL2022700PE</td>\n",
       "      <td>09-07-2020 09:29</td>\n",
       "      <td>110.55</td>\n",
       "      <td>09-07-2020 10:34</td>\n",
       "      <td>147.00</td>\n",
       "      <td>3645.0</td>\n",
       "    </tr>\n",
       "    <tr>\n",
       "      <th>3</th>\n",
       "      <td>4</td>\n",
       "      <td>BANKNIFTY16JUL2022700CE</td>\n",
       "      <td>10-07-2020 09:29</td>\n",
       "      <td>295.10</td>\n",
       "      <td>10-07-2020 15:24</td>\n",
       "      <td>437.55</td>\n",
       "      <td>14245.0</td>\n",
       "    </tr>\n",
       "    <tr>\n",
       "      <th>4</th>\n",
       "      <td>5</td>\n",
       "      <td>BANKNIFTY16JUL2022700PE</td>\n",
       "      <td>10-07-2020 09:29</td>\n",
       "      <td>555.20</td>\n",
       "      <td>10-07-2020 15:24</td>\n",
       "      <td>403.15</td>\n",
       "      <td>-15205.0</td>\n",
       "    </tr>\n",
       "    <tr>\n",
       "      <th>...</th>\n",
       "      <td>...</td>\n",
       "      <td>...</td>\n",
       "      <td>...</td>\n",
       "      <td>...</td>\n",
       "      <td>...</td>\n",
       "      <td>...</td>\n",
       "      <td>...</td>\n",
       "    </tr>\n",
       "    <tr>\n",
       "      <th>244</th>\n",
       "      <td>245</td>\n",
       "      <td>BANKNIFTY31DEC2031300PE</td>\n",
       "      <td>29-12-2020 09:29</td>\n",
       "      <td>216.65</td>\n",
       "      <td>29-12-2020 13:10</td>\n",
       "      <td>274.60</td>\n",
       "      <td>5795.0</td>\n",
       "    </tr>\n",
       "    <tr>\n",
       "      <th>245</th>\n",
       "      <td>246</td>\n",
       "      <td>BANKNIFTY31DEC2031200CE</td>\n",
       "      <td>30-12-2020 09:29</td>\n",
       "      <td>248.25</td>\n",
       "      <td>30-12-2020 10:24</td>\n",
       "      <td>283.90</td>\n",
       "      <td>3565.0</td>\n",
       "    </tr>\n",
       "    <tr>\n",
       "      <th>246</th>\n",
       "      <td>247</td>\n",
       "      <td>BANKNIFTY31DEC2031200PE</td>\n",
       "      <td>30-12-2020 09:29</td>\n",
       "      <td>221.70</td>\n",
       "      <td>30-12-2020 10:24</td>\n",
       "      <td>240.10</td>\n",
       "      <td>1840.0</td>\n",
       "    </tr>\n",
       "    <tr>\n",
       "      <th>247</th>\n",
       "      <td>248</td>\n",
       "      <td>BANKNIFTY31DEC2031300CE</td>\n",
       "      <td>31-12-2020 09:29</td>\n",
       "      <td>161.80</td>\n",
       "      <td>31-12-2020 10:37</td>\n",
       "      <td>173.85</td>\n",
       "      <td>1205.0</td>\n",
       "    </tr>\n",
       "    <tr>\n",
       "      <th>248</th>\n",
       "      <td>249</td>\n",
       "      <td>BANKNIFTY31DEC2031300PE</td>\n",
       "      <td>31-12-2020 09:29</td>\n",
       "      <td>105.05</td>\n",
       "      <td>31-12-2020 10:37</td>\n",
       "      <td>124.00</td>\n",
       "      <td>1895.0</td>\n",
       "    </tr>\n",
       "  </tbody>\n",
       "</table>\n",
       "<p>249 rows × 7 columns</p>\n",
       "</div>"
      ],
      "text/plain": [
       "     Unnamed: 0                   Ticker        Entry Time  Entry Price  \\\n",
       "0             1  BANKNIFTY09JUL2022800PE  08-07-2020 09:29       163.50   \n",
       "1             2  BANKNIFTY09JUL2022700CE  09-07-2020 09:29       162.50   \n",
       "2             3  BANKNIFTY09JUL2022700PE  09-07-2020 09:29       110.55   \n",
       "3             4  BANKNIFTY16JUL2022700CE  10-07-2020 09:29       295.10   \n",
       "4             5  BANKNIFTY16JUL2022700PE  10-07-2020 09:29       555.20   \n",
       "..          ...                      ...               ...          ...   \n",
       "244         245  BANKNIFTY31DEC2031300PE  29-12-2020 09:29       216.65   \n",
       "245         246  BANKNIFTY31DEC2031200CE  30-12-2020 09:29       248.25   \n",
       "246         247  BANKNIFTY31DEC2031200PE  30-12-2020 09:29       221.70   \n",
       "247         248  BANKNIFTY31DEC2031300CE  31-12-2020 09:29       161.80   \n",
       "248         249  BANKNIFTY31DEC2031300PE  31-12-2020 09:29       105.05   \n",
       "\n",
       "            Exit Time  Exit Price  Profit/Loss  \n",
       "0    08-07-2020 13:15      301.00      13750.0  \n",
       "1    09-07-2020 10:34      166.75        425.0  \n",
       "2    09-07-2020 10:34      147.00       3645.0  \n",
       "3    10-07-2020 15:24      437.55      14245.0  \n",
       "4    10-07-2020 15:24      403.15     -15205.0  \n",
       "..                ...         ...          ...  \n",
       "244  29-12-2020 13:10      274.60       5795.0  \n",
       "245  30-12-2020 10:24      283.90       3565.0  \n",
       "246  30-12-2020 10:24      240.10       1840.0  \n",
       "247  31-12-2020 10:37      173.85       1205.0  \n",
       "248  31-12-2020 10:37      124.00       1895.0  \n",
       "\n",
       "[249 rows x 7 columns]"
      ]
     },
     "execution_count": 7,
     "metadata": {},
     "output_type": "execute_result"
    }
   ],
   "source": [
    "# Calculating the profit or loss for each trade\n",
    "df['Profit/Loss'] = (df['Exit Price'] - df['Entry Price']) * 100\n",
    "df"
   ]
  },
  {
   "cell_type": "markdown",
   "id": "f8e0b0f7",
   "metadata": {},
   "source": [
    "__Parameter Calculation:__"
   ]
  },
  {
   "cell_type": "markdown",
   "id": "6b7b2fce",
   "metadata": {},
   "source": [
    "# 1. Total Trades:"
   ]
  },
  {
   "cell_type": "code",
   "execution_count": 8,
   "id": "9cfa80dd",
   "metadata": {},
   "outputs": [
    {
     "name": "stdout",
     "output_type": "stream",
     "text": [
      "Total Trades :  249\n"
     ]
    }
   ],
   "source": [
    "total_trades = len(df)\n",
    "print(\"Total Trades : \" ,total_trades)"
   ]
  },
  {
   "cell_type": "markdown",
   "id": "96cf8dfe",
   "metadata": {},
   "source": [
    "# 2. Profitable Trades"
   ]
  },
  {
   "cell_type": "code",
   "execution_count": 9,
   "id": "35db0b43",
   "metadata": {},
   "outputs": [
    {
     "name": "stdout",
     "output_type": "stream",
     "text": [
      "Profitable Trades :  153\n"
     ]
    }
   ],
   "source": [
    "profitable_trades = len(df[df['Profit/Loss'] > 0])\n",
    "print(\"Profitable Trades : \" , profitable_trades)"
   ]
  },
  {
   "cell_type": "markdown",
   "id": "007f669f",
   "metadata": {},
   "source": [
    "# 3. Loss-Making Trades"
   ]
  },
  {
   "cell_type": "code",
   "execution_count": 10,
   "id": "5292f3b9",
   "metadata": {},
   "outputs": [
    {
     "name": "stdout",
     "output_type": "stream",
     "text": [
      "Loss Making Trades :  153\n"
     ]
    }
   ],
   "source": [
    "loss_making_trades = len(df[df['Profit/Loss'] < 0])\n",
    "print(\"Loss Making Trades : \" , profitable_trades)"
   ]
  },
  {
   "cell_type": "markdown",
   "id": "88dd3c21",
   "metadata": {},
   "source": [
    "# 4. Win rate: \n",
    "__Win Rate is the ratio of profitable trades to all trades__"
   ]
  },
  {
   "cell_type": "code",
   "execution_count": 32,
   "id": "aada1e35",
   "metadata": {},
   "outputs": [
    {
     "name": "stdout",
     "output_type": "stream",
     "text": [
      "Win Rate :  0.6144578313253012\n"
     ]
    }
   ],
   "source": [
    "if (total_trades > 0):\n",
    "    win_rate = profitable_trades / total_trades\n",
    "else:\n",
    "    0\n",
    "print(\"Win Rate : \" , win_rate)"
   ]
  },
  {
   "cell_type": "markdown",
   "id": "97f90a8a",
   "metadata": {},
   "source": [
    "# 5. Average Profit per trade"
   ]
  },
  {
   "cell_type": "code",
   "execution_count": 34,
   "id": "8df15fdc",
   "metadata": {},
   "outputs": [
    {
     "name": "stdout",
     "output_type": "stream",
     "text": [
      "Average Profit Per Trade :  7609.5424836601305\n"
     ]
    }
   ],
   "source": [
    "# Checking if there are profitable trades\n",
    "if (profitable_trades > 0):\n",
    "    avg_profit_per_trade = df[df['Profit/Loss'] > 0]['Profit/Loss'].mean()  \n",
    "else:\n",
    "    0\n",
    "print(\"Average Profit Per Trade : \" , avg_profit_per_trade)"
   ]
  },
  {
   "cell_type": "markdown",
   "id": "ec6b0933",
   "metadata": {},
   "source": [
    "# 6. Average Loss per trade"
   ]
  },
  {
   "cell_type": "code",
   "execution_count": 40,
   "id": "1afe05bc",
   "metadata": {},
   "outputs": [
    {
     "name": "stdout",
     "output_type": "stream",
     "text": [
      "Average Loss Per Trade :  -10554.375\n"
     ]
    }
   ],
   "source": [
    "# Checking if there are loss-making trades\n",
    "if (loss_making_trades > 0):\n",
    "    avg_loss_per_trade = df[df['Profit/Loss'] < 0]['Profit/Loss'].mean()  \n",
    "else :\n",
    "    0\n",
    "print(\"Average Loss Per Trade : \" , avg_loss_per_trade)"
   ]
  },
  {
   "cell_type": "markdown",
   "id": "617662cc",
   "metadata": {},
   "source": [
    "# 7. Risk Reward ratio: \n",
    "__Risk Reward Ratio is the ratio of average profit to average loss__"
   ]
  },
  {
   "cell_type": "code",
   "execution_count": 42,
   "id": "d10b94e4",
   "metadata": {},
   "outputs": [
    {
     "name": "stdout",
     "output_type": "stream",
     "text": [
      "Risk Reward Ratio :  0.720984661210174\n"
     ]
    }
   ],
   "source": [
    "# Checking if average loss per trade is not zero to avoid division by zero\n",
    "if (avg_loss_per_trade != 0):\n",
    "    risk_reward_ratio = abs(avg_profit_per_trade / avg_loss_per_trade)  \n",
    "else:\n",
    "    # set risk-reward ratio to positive infinity\n",
    "    np.inf\n",
    "print(\"Risk Reward Ratio : \" , risk_reward_ratio)"
   ]
  },
  {
   "cell_type": "markdown",
   "id": "4865d498",
   "metadata": {},
   "source": [
    "# 8. Expectancy : \n",
    "__(Win Rate x Average Profit) - (Loss Rate x Average Loss), where Loss Rate = 1 - (Win Rate)__"
   ]
  },
  {
   "cell_type": "code",
   "execution_count": 27,
   "id": "2767fb38",
   "metadata": {},
   "outputs": [
    {
     "name": "stdout",
     "output_type": "stream",
     "text": [
      "Expectancy :  8744.899598393575\n"
     ]
    }
   ],
   "source": [
    "loss_rate = 1 - win_rate\n",
    "expectancy = (win_rate * avg_profit_per_trade) - (loss_rate * avg_loss_per_trade)\n",
    "print(\"Expectancy : \" , expectancy)"
   ]
  },
  {
   "cell_type": "markdown",
   "id": "26625f46",
   "metadata": {},
   "source": [
    "# 9. Average ROR per trade: \n",
    "__The ratio is the average return earned in excess of the risk-freerate per unit of volatility or total risk. Volatility is a measure of the price fluctuations of an asset or portfolio__"
   ]
  },
  {
   "cell_type": "code",
   "execution_count": 31,
   "id": "b50cc24e",
   "metadata": {},
   "outputs": [
    {
     "name": "stdout",
     "output_type": "stream",
     "text": [
      "Average ROR Per Trade :  0.7750097981750751\n"
     ]
    }
   ],
   "source": [
    "# Calculate standard deviation of Profit/Loss\n",
    "std_profit_loss = np.std(df['Profit/Loss'])\n",
    "\n",
    "# Checking if standard deviation is not zero\n",
    "if (std_profit_loss != 0):\n",
    "    avg_ROR_per_trade = (expectancy /std_profit_loss )\n",
    "else:\n",
    "    0\n",
    "    \n",
    "print(\"Average ROR Per Trade : \" , avg_ROR_per_trade)"
   ]
  },
  {
   "cell_type": "markdown",
   "id": "757d623f",
   "metadata": {},
   "source": [
    "# 10. Sharpe Ratio:\n",
    "\n",
    "__Sharpe Ratio = (Rate of Return - Risk-Free Rate) / (Standard deviation of the asset or portfolio)__"
   ]
  },
  {
   "cell_type": "code",
   "execution_count": 45,
   "id": "035980e3",
   "metadata": {},
   "outputs": [
    {
     "name": "stdout",
     "output_type": "stream",
     "text": [
      "Sharpe Ratio :  6.425341892568271e-05\n"
     ]
    }
   ],
   "source": [
    "sharpe_ratio = (avg_ROR_per_trade - risk_free_rate) / np.std(df['Profit/Loss'])\n",
    "print(\"Sharpe Ratio : \" , sharpe_ratio)"
   ]
  },
  {
   "cell_type": "markdown",
   "id": "b8505252",
   "metadata": {},
   "source": [
    "# 11. Max Drawdown: \n",
    "__A maximum drawdown is the maximum observed loss from the peak of the portfolio in the given duration__"
   ]
  },
  {
   "cell_type": "code",
   "execution_count": 51,
   "id": "701c034a",
   "metadata": {},
   "outputs": [
    {
     "name": "stdout",
     "output_type": "stream",
     "text": [
      "Max Drawdown :  -55205.0\n"
     ]
    }
   ],
   "source": [
    "# Calculate maximum drawdown : (cumulative profit loss - cumulative_max).min()\n",
    "max_drawdown = (df['Profit/Loss'].cumsum() - df['Profit/Loss'].cumsum().cummax()).min()\n",
    "print(\"Max Drawdown : \" , max_drawdown)"
   ]
  },
  {
   "cell_type": "markdown",
   "id": "727e8e85",
   "metadata": {},
   "source": [
    "# 12. Max Drawdown Percentage"
   ]
  },
  {
   "cell_type": "code",
   "execution_count": 52,
   "id": "830194c3",
   "metadata": {},
   "outputs": [
    {
     "name": "stdout",
     "output_type": "stream",
     "text": [
      "Max Drawdown Percentage :  -849.3076923076924\n"
     ]
    }
   ],
   "source": [
    "max_drawdown_percentage = (max_drawdown / initial_portfolio_value) * 100\n",
    "print(\"Max Drawdown Percentage : \" , max_drawdown_percentage)"
   ]
  },
  {
   "cell_type": "markdown",
   "id": "5b1fe788",
   "metadata": {},
   "source": [
    "# 13. CAGR :\n",
    "__The CAGR formula is equal to (Ending Value/Beginning Value) ^ (1/No. of Periods) – 1 __"
   ]
  },
  {
   "cell_type": "code",
   "execution_count": 53,
   "id": "58208e0a",
   "metadata": {},
   "outputs": [
    {
     "name": "stdout",
     "output_type": "stream",
     "text": [
      "CAGR :  23.134516550346046\n"
     ]
    }
   ],
   "source": [
    "#calculating Ending Value\n",
    "Ending_Value  = df['Profit/Loss'].cumsum().iloc[-1]\n",
    "# calculating No. of periods assuming 252 trading days in a year\n",
    "no_of_periods  = total_trades / 252\n",
    "\n",
    "cagr = (Ending_Value / initial_portfolio_value) ** (1 / no_of_periods) - 1\n",
    "print(\"CAGR : \" , cagr)"
   ]
  },
  {
   "cell_type": "markdown",
   "id": "3c151cf5",
   "metadata": {},
   "source": [
    "# 14. Calmar Ratio:\n",
    "__Measures the performance of a strategy or fund, compared to its risk__"
   ]
  },
  {
   "cell_type": "code",
   "execution_count": 56,
   "id": "6085c0a4",
   "metadata": {},
   "outputs": [
    {
     "name": "stdout",
     "output_type": "stream",
     "text": [
      "Calmar Ratio :  2.7239264120505258\n"
     ]
    }
   ],
   "source": [
    "# Checking if the maximum drawdown percentage is not zero\n",
    "if (max_drawdown_percentage != 0):\n",
    "    calmar_ratio = (cagr / abs(max_drawdown_percentage / 100))\n",
    "else:\n",
    "    np.inf\n",
    "print(\"Calmar Ratio : \" , calmar_ratio)"
   ]
  },
  {
   "cell_type": "markdown",
   "id": "d3f61cbc",
   "metadata": {},
   "source": [
    "# storing the result"
   ]
  },
  {
   "cell_type": "code",
   "execution_count": 58,
   "id": "57ff60a5",
   "metadata": {},
   "outputs": [],
   "source": [
    "# Store results in a DataFrame\n",
    "results = pd.DataFrame({\n",
    "    'Total Trades': [total_trades],\n",
    "    'Profitable Trades': [profitable_trades],\n",
    "    'Loss-Making Trades': [loss_making_trades],\n",
    "    'Win Rate': [win_rate],\n",
    "    'Average Profit per Trade': [avg_profit_per_trade],\n",
    "    'Average Loss per Trade': [avg_loss_per_trade],\n",
    "    'Risk Reward Ratio': [risk_reward_ratio],\n",
    "    'Expectancy': [expectancy],\n",
    "    'Average ROR per Trade': [avg_ROR_per_trade],\n",
    "    'Sharpe Ratio': [sharpe_ratio],\n",
    "    'Max Drawdown': [max_drawdown],\n",
    "    'Max Drawdown Percentage': [max_drawdown_percentage],\n",
    "    'CAGR': [cagr],\n",
    "    'Calmar Ratio': [calmar_ratio]\n",
    "})\n"
   ]
  },
  {
   "cell_type": "code",
   "execution_count": 59,
   "id": "bfe8809a",
   "metadata": {},
   "outputs": [
    {
     "data": {
      "text/html": [
       "<div>\n",
       "<style scoped>\n",
       "    .dataframe tbody tr th:only-of-type {\n",
       "        vertical-align: middle;\n",
       "    }\n",
       "\n",
       "    .dataframe tbody tr th {\n",
       "        vertical-align: top;\n",
       "    }\n",
       "\n",
       "    .dataframe thead th {\n",
       "        text-align: right;\n",
       "    }\n",
       "</style>\n",
       "<table border=\"1\" class=\"dataframe\">\n",
       "  <thead>\n",
       "    <tr style=\"text-align: right;\">\n",
       "      <th></th>\n",
       "      <th>Total Trades</th>\n",
       "      <th>Profitable Trades</th>\n",
       "      <th>Loss-Making Trades</th>\n",
       "      <th>Win Rate</th>\n",
       "      <th>Average Profit per Trade</th>\n",
       "      <th>Average Loss per Trade</th>\n",
       "      <th>Risk Reward Ratio</th>\n",
       "      <th>Expectancy</th>\n",
       "      <th>Average ROR per Trade</th>\n",
       "      <th>Sharpe Ratio</th>\n",
       "      <th>Max Drawdown</th>\n",
       "      <th>Max Drawdown Percentage</th>\n",
       "      <th>CAGR</th>\n",
       "      <th>Calmar Ratio</th>\n",
       "    </tr>\n",
       "  </thead>\n",
       "  <tbody>\n",
       "    <tr>\n",
       "      <th>0</th>\n",
       "      <td>249</td>\n",
       "      <td>153</td>\n",
       "      <td>96</td>\n",
       "      <td>0.614458</td>\n",
       "      <td>7609.542484</td>\n",
       "      <td>-10554.375</td>\n",
       "      <td>0.720985</td>\n",
       "      <td>8744.899598</td>\n",
       "      <td>0.77501</td>\n",
       "      <td>0.000064</td>\n",
       "      <td>-55205.0</td>\n",
       "      <td>-849.307692</td>\n",
       "      <td>23.134517</td>\n",
       "      <td>2.723926</td>\n",
       "    </tr>\n",
       "  </tbody>\n",
       "</table>\n",
       "</div>"
      ],
      "text/plain": [
       "   Total Trades  Profitable Trades  Loss-Making Trades  Win Rate  \\\n",
       "0           249                153                  96  0.614458   \n",
       "\n",
       "   Average Profit per Trade  Average Loss per Trade  Risk Reward Ratio  \\\n",
       "0               7609.542484              -10554.375           0.720985   \n",
       "\n",
       "    Expectancy  Average ROR per Trade  Sharpe Ratio  Max Drawdown  \\\n",
       "0  8744.899598                0.77501      0.000064      -55205.0   \n",
       "\n",
       "   Max Drawdown Percentage       CAGR  Calmar Ratio  \n",
       "0              -849.307692  23.134517      2.723926  "
      ]
     },
     "execution_count": 59,
     "metadata": {},
     "output_type": "execute_result"
    }
   ],
   "source": [
    "results"
   ]
  },
  {
   "cell_type": "code",
   "execution_count": 60,
   "id": "6d570c5b",
   "metadata": {},
   "outputs": [],
   "source": [
    "# Save results to CSV\n",
    "results.to_csv('trading_results.csv', index=False)"
   ]
  },
  {
   "cell_type": "code",
   "execution_count": null,
   "id": "65ba2239",
   "metadata": {},
   "outputs": [],
   "source": []
  }
 ],
 "metadata": {
  "kernelspec": {
   "display_name": "Python 3 (ipykernel)",
   "language": "python",
   "name": "python3"
  },
  "language_info": {
   "codemirror_mode": {
    "name": "ipython",
    "version": 3
   },
   "file_extension": ".py",
   "mimetype": "text/x-python",
   "name": "python",
   "nbconvert_exporter": "python",
   "pygments_lexer": "ipython3",
   "version": "3.9.13"
  }
 },
 "nbformat": 4,
 "nbformat_minor": 5
}
